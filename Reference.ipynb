{
 "cells": [
  {
   "cell_type": "code",
   "execution_count": 1,
   "metadata": {},
   "outputs": [],
   "source": [
    "import numpy as np\n",
    "import pandas as pd\n",
    "import geopandas as gpd\n",
    "import matplotlib.pyplot as plt\n",
    "import seaborn as sns\n",
    "import datetime\n",
    "from fuzzywuzzy import fuzz\n",
    "from fuzzywuzzy import process\n",
    "from scipy.stats import ttest_1samp, kendalltau, ttest_ind, ranksums\n",
    "from sklearn.neighbors import NearestNeighbors\n"
   ]
  },
  {
   "cell_type": "code",
   "execution_count": 2,
   "metadata": {},
   "outputs": [],
   "source": [
    "df = pd.read_excel('Violence_Homicide.xlsx',sheet_name='Data')\n",
    "df.loc[df.GeoAreaName=='Philippines']\n",
    "df = df[['GeoAreaName', 'Sex', '2000', '2001', '2002', '2003', '2004', '2005', '2006', '2007',\n",
    "       '2008', '2009', '2010', '2011', '2012', '2013', '2014', '2015', '2016',\n",
    "       '2017', '2018']]\n",
    "df = pd.melt(df, id_vars=['GeoAreaName','Sex'], value_vars = df.columns[2:])\n",
    "df = df[['GeoAreaName','variable','Sex','value']]\n",
    "df.columns = ['country','year','sex','value']\n",
    "\n",
    "df2 = pd.read_csv('Violence_Homicide_2.csv')\n",
    "df2.columns = [(str(x)+str(y)).strip().replace('nan','') for (x,y) in zip(df2.loc[0],df2.loc[1])]\n",
    "df2 = df2.drop([0,1],axis=0)\n",
    "df2 = pd.melt(df2, id_vars=['Country'], value_vars=df2.columns[1:])\n",
    "df2['year'] = [i[:5] for i in df2.variable]\n",
    "df2['type'] = [i[5:] for i in df2.variable]\n",
    "df2 = df2[['Country','year','type','value']]\n",
    "df2.columns = ['country','year','sex','value']\n",
    "\n",
    "df = df.append(df2)\n",
    "df['sex'] = df.sex.str.upper()\n",
    "del df2"
   ]
  },
  {
   "cell_type": "code",
   "execution_count": 3,
   "metadata": {},
   "outputs": [
    {
     "data": {
      "text/html": [
       "<div>\n",
       "<style scoped>\n",
       "    .dataframe tbody tr th:only-of-type {\n",
       "        vertical-align: middle;\n",
       "    }\n",
       "\n",
       "    .dataframe tbody tr th {\n",
       "        vertical-align: top;\n",
       "    }\n",
       "\n",
       "    .dataframe thead th {\n",
       "        text-align: right;\n",
       "    }\n",
       "</style>\n",
       "<table border=\"1\" class=\"dataframe\">\n",
       "  <thead>\n",
       "    <tr style=\"text-align: right;\">\n",
       "      <th></th>\n",
       "      <th>country</th>\n",
       "      <th>year</th>\n",
       "      <th>sex</th>\n",
       "      <th>value</th>\n",
       "    </tr>\n",
       "  </thead>\n",
       "  <tbody>\n",
       "    <tr>\n",
       "      <th>0</th>\n",
       "      <td>Albania</td>\n",
       "      <td>2000</td>\n",
       "      <td>FEMALE</td>\n",
       "      <td>0.84102</td>\n",
       "    </tr>\n",
       "    <tr>\n",
       "      <th>1</th>\n",
       "      <td>Romania</td>\n",
       "      <td>2000</td>\n",
       "      <td>FEMALE</td>\n",
       "      <td>1.23810</td>\n",
       "    </tr>\n",
       "    <tr>\n",
       "      <th>2</th>\n",
       "      <td>Republic of Moldova</td>\n",
       "      <td>2000</td>\n",
       "      <td>MALE</td>\n",
       "      <td>15.54676</td>\n",
       "    </tr>\n",
       "    <tr>\n",
       "      <th>3</th>\n",
       "      <td>Republic of Moldova</td>\n",
       "      <td>2000</td>\n",
       "      <td>FEMALE</td>\n",
       "      <td>5.48922</td>\n",
       "    </tr>\n",
       "    <tr>\n",
       "      <th>4</th>\n",
       "      <td>Puerto Rico</td>\n",
       "      <td>2000</td>\n",
       "      <td>MALE</td>\n",
       "      <td>37.42445</td>\n",
       "    </tr>\n",
       "    <tr>\n",
       "      <th>...</th>\n",
       "      <td>...</td>\n",
       "      <td>...</td>\n",
       "      <td>...</td>\n",
       "      <td>...</td>\n",
       "    </tr>\n",
       "    <tr>\n",
       "      <th>7221</th>\n",
       "      <td>Bhutan</td>\n",
       "      <td>2018</td>\n",
       "      <td>FEMALE</td>\n",
       "      <td>0.56404</td>\n",
       "    </tr>\n",
       "    <tr>\n",
       "      <th>7222</th>\n",
       "      <td>Bhutan</td>\n",
       "      <td>2018</td>\n",
       "      <td>MALE</td>\n",
       "      <td>1.75083</td>\n",
       "    </tr>\n",
       "    <tr>\n",
       "      <th>7223</th>\n",
       "      <td>Bosnia and Herzegovina</td>\n",
       "      <td>2018</td>\n",
       "      <td>FEMALE</td>\n",
       "      <td>0.47182</td>\n",
       "    </tr>\n",
       "    <tr>\n",
       "      <th>7224</th>\n",
       "      <td>Azerbaijan</td>\n",
       "      <td>2018</td>\n",
       "      <td>FEMALE</td>\n",
       "      <td>1.32363</td>\n",
       "    </tr>\n",
       "    <tr>\n",
       "      <th>7225</th>\n",
       "      <td>Haiti</td>\n",
       "      <td>2018</td>\n",
       "      <td>FEMALE</td>\n",
       "      <td>1.02944</td>\n",
       "    </tr>\n",
       "  </tbody>\n",
       "</table>\n",
       "<p>7226 rows × 4 columns</p>\n",
       "</div>"
      ],
      "text/plain": [
       "                     country  year     sex     value\n",
       "0                    Albania  2000  FEMALE   0.84102\n",
       "1                    Romania  2000  FEMALE   1.23810\n",
       "2        Republic of Moldova  2000    MALE  15.54676\n",
       "3        Republic of Moldova  2000  FEMALE   5.48922\n",
       "4                Puerto Rico  2000    MALE  37.42445\n",
       "...                      ...   ...     ...       ...\n",
       "7221                  Bhutan  2018  FEMALE   0.56404\n",
       "7222                  Bhutan  2018    MALE   1.75083\n",
       "7223  Bosnia and Herzegovina  2018  FEMALE   0.47182\n",
       "7224              Azerbaijan  2018  FEMALE   1.32363\n",
       "7225                   Haiti  2018  FEMALE   1.02944\n",
       "\n",
       "[7226 rows x 4 columns]"
      ]
     },
     "execution_count": 3,
     "metadata": {},
     "output_type": "execute_result"
    }
   ],
   "source": [
    "df = df.loc[df.value.notnull()].sort_values(by='year')\n",
    "df = df.reset_index(drop=True)\n",
    "df['year'] = df['year'].astype(int)\n",
    "df['value'] = df['value'].astype(float)\n",
    "df"
   ]
  },
  {
   "cell_type": "markdown",
   "metadata": {},
   "source": [
    "#### Insight\n",
    "The number of homicides had previously decreased, but <b>rose again towards 2015/2016</b>"
   ]
  },
  {
   "cell_type": "code",
   "execution_count": 4,
   "metadata": {},
   "outputs": [
    {
     "data": {
      "text/plain": [
       "<matplotlib.axes._subplots.AxesSubplot at 0x1a24a5c090>"
      ]
     },
     "execution_count": 4,
     "metadata": {},
     "output_type": "execute_result"
    },
    {
     "data": {
      "image/png": "[encoded data removed]",
      "text/plain": [
       "<Figure size 432x288 with 1 Axes>"
      ]
     },
     "metadata": {
      "needs_background": "light"
     },
     "output_type": "display_data"
    }
   ],
   "source": [
    "sns.lineplot(df[df.country=='Philippines']['year'],\n",
    "             df[df.country=='Philippines']['value'],\n",
    "             hue=df[df.country=='Philippines']['sex'])"
   ]
  },
  {
   "cell_type": "code",
   "execution_count": 5,
   "metadata": {},
   "outputs": [],
   "source": [
    "df = pd.pivot_table(df, values='value', index=['country', 'year'],\n",
    "                    columns=['sex']).reset_index()\n",
    "df['diff'] = df['MALE']-df['FEMALE']"
   ]
  },
  {
   "cell_type": "code",
   "execution_count": 6,
   "metadata": {},
   "outputs": [
    {
     "data": {
      "text/html": [
       "<div>\n",
       "<style scoped>\n",
       "    .dataframe tbody tr th:only-of-type {\n",
       "        vertical-align: middle;\n",
       "    }\n",
       "\n",
       "    .dataframe tbody tr th {\n",
       "        vertical-align: top;\n",
       "    }\n",
       "\n",
       "    .dataframe thead th {\n",
       "        text-align: right;\n",
       "    }\n",
       "</style>\n",
       "<table border=\"1\" class=\"dataframe\">\n",
       "  <thead>\n",
       "    <tr style=\"text-align: right;\">\n",
       "      <th>sex</th>\n",
       "      <th>country</th>\n",
       "      <th>year</th>\n",
       "      <th>BOTH SEXES</th>\n",
       "      <th>FEMALE</th>\n",
       "      <th>MALE</th>\n",
       "      <th>diff</th>\n",
       "    </tr>\n",
       "  </thead>\n",
       "  <tbody>\n",
       "    <tr>\n",
       "      <th>1785</th>\n",
       "      <td>Philippines</td>\n",
       "      <td>2000</td>\n",
       "      <td>20.2</td>\n",
       "      <td>4.500000</td>\n",
       "      <td>35.60000</td>\n",
       "      <td>31.100000</td>\n",
       "    </tr>\n",
       "    <tr>\n",
       "      <th>1786</th>\n",
       "      <td>Philippines</td>\n",
       "      <td>2005</td>\n",
       "      <td>19.6</td>\n",
       "      <td>3.800000</td>\n",
       "      <td>35.20000</td>\n",
       "      <td>31.400000</td>\n",
       "    </tr>\n",
       "    <tr>\n",
       "      <th>1787</th>\n",
       "      <td>Philippines</td>\n",
       "      <td>2007</td>\n",
       "      <td>NaN</td>\n",
       "      <td>2.143650</td>\n",
       "      <td>11.13408</td>\n",
       "      <td>8.990430</td>\n",
       "    </tr>\n",
       "    <tr>\n",
       "      <th>1788</th>\n",
       "      <td>Philippines</td>\n",
       "      <td>2008</td>\n",
       "      <td>NaN</td>\n",
       "      <td>2.653040</td>\n",
       "      <td>10.09546</td>\n",
       "      <td>7.442420</td>\n",
       "    </tr>\n",
       "    <tr>\n",
       "      <th>1789</th>\n",
       "      <td>Philippines</td>\n",
       "      <td>2009</td>\n",
       "      <td>NaN</td>\n",
       "      <td>3.435550</td>\n",
       "      <td>16.12582</td>\n",
       "      <td>12.690270</td>\n",
       "    </tr>\n",
       "    <tr>\n",
       "      <th>1790</th>\n",
       "      <td>Philippines</td>\n",
       "      <td>2010</td>\n",
       "      <td>17.7</td>\n",
       "      <td>3.052265</td>\n",
       "      <td>23.64014</td>\n",
       "      <td>20.587875</td>\n",
       "    </tr>\n",
       "    <tr>\n",
       "      <th>1791</th>\n",
       "      <td>Philippines</td>\n",
       "      <td>2011</td>\n",
       "      <td>NaN</td>\n",
       "      <td>2.151130</td>\n",
       "      <td>15.49659</td>\n",
       "      <td>13.345460</td>\n",
       "    </tr>\n",
       "    <tr>\n",
       "      <th>1792</th>\n",
       "      <td>Philippines</td>\n",
       "      <td>2012</td>\n",
       "      <td>NaN</td>\n",
       "      <td>2.254350</td>\n",
       "      <td>15.09240</td>\n",
       "      <td>12.838050</td>\n",
       "    </tr>\n",
       "    <tr>\n",
       "      <th>1793</th>\n",
       "      <td>Philippines</td>\n",
       "      <td>2015</td>\n",
       "      <td>15.4</td>\n",
       "      <td>3.200000</td>\n",
       "      <td>27.40000</td>\n",
       "      <td>24.200000</td>\n",
       "    </tr>\n",
       "    <tr>\n",
       "      <th>1794</th>\n",
       "      <td>Philippines</td>\n",
       "      <td>2016</td>\n",
       "      <td>14.8</td>\n",
       "      <td>3.100000</td>\n",
       "      <td>26.30000</td>\n",
       "      <td>23.200000</td>\n",
       "    </tr>\n",
       "    <tr>\n",
       "      <th>1795</th>\n",
       "      <td>Philippines</td>\n",
       "      <td>2017</td>\n",
       "      <td>14.3</td>\n",
       "      <td>3.000000</td>\n",
       "      <td>25.50000</td>\n",
       "      <td>22.500000</td>\n",
       "    </tr>\n",
       "  </tbody>\n",
       "</table>\n",
       "</div>"
      ],
      "text/plain": [
       "sex       country  year  BOTH SEXES    FEMALE      MALE       diff\n",
       "1785  Philippines  2000        20.2  4.500000  35.60000  31.100000\n",
       "1786  Philippines  2005        19.6  3.800000  35.20000  31.400000\n",
       "1787  Philippines  2007         NaN  2.143650  11.13408   8.990430\n",
       "1788  Philippines  2008         NaN  2.653040  10.09546   7.442420\n",
       "1789  Philippines  2009         NaN  3.435550  16.12582  12.690270\n",
       "1790  Philippines  2010        17.7  3.052265  23.64014  20.587875\n",
       "1791  Philippines  2011         NaN  2.151130  15.49659  13.345460\n",
       "1792  Philippines  2012         NaN  2.254350  15.09240  12.838050\n",
       "1793  Philippines  2015        15.4  3.200000  27.40000  24.200000\n",
       "1794  Philippines  2016        14.8  3.100000  26.30000  23.200000\n",
       "1795  Philippines  2017        14.3  3.000000  25.50000  22.500000"
      ]
     },
     "execution_count": 6,
     "metadata": {},
     "output_type": "execute_result"
    }
   ],
   "source": [
    "df_ph = df.loc[df.country=='Philippines']\n",
    "df_ph"
   ]
  },
  {
   "cell_type": "markdown",
   "metadata": {},
   "source": [
    "#### Insight\n",
    "* Rates of male and female homicide are not changing throughout the years\n",
    "* Male rates of homicide are <b>significantly higher than females</b>"
   ]
  },
  {
   "cell_type": "code",
   "execution_count": 7,
   "metadata": {},
   "outputs": [
    {
     "name": "stdout",
     "output_type": "stream",
     "text": [
      "Male Homicide Trend\n",
      " Slope: -0.018181818181818184, p-val: 1.0\n",
      "Female Homicide Trend\n",
      " Slope: -0.2, p-val: 0.4453821448613115\n",
      "Test for difference in means: p-val: 7.105263288600155e-05\n"
     ]
    }
   ],
   "source": [
    "t_T, p_T = ranksums(df_ph['FEMALE'],df_ph['MALE'])\n",
    "t_F, p_F = kendalltau(df_ph['year'],df_ph['FEMALE'])\n",
    "t_M, p_M = kendalltau(df_ph['year'],df_ph['MALE'])\n",
    "\n",
    "print(f\"Male Homicide Trend\\n Slope: {t_M}, p-val: {p_M}\")\n",
    "print(f\"Female Homicide Trend\\n Slope: {t_F}, p-val: {p_F}\")\n",
    "print(f\"Test for difference in means: p-val: {p_T}\")"
   ]
  },
  {
   "cell_type": "code",
   "execution_count": 8,
   "metadata": {},
   "outputs": [],
   "source": [
    "sea = ['Viet Nam','Malaysia','Indonesia','Thailand','Cambodia','Philippines']"
   ]
  },
  {
   "cell_type": "markdown",
   "metadata": {},
   "source": [
    "#### Insight\n",
    "* The Philippines has the highest rates of homicide for both males and females in Southeast Asia"
   ]
  },
  {
   "cell_type": "code",
   "execution_count": 9,
   "metadata": {},
   "outputs": [
    {
     "data": {
      "text/plain": [
       "<matplotlib.axes._subplots.AxesSubplot at 0x1a24a680d0>"
      ]
     },
     "execution_count": 9,
     "metadata": {},
     "output_type": "execute_result"
    },
    {
     "data": {
      "image/png": "[encoded data removed]",
      "text/plain": [
       "<Figure size 432x288 with 1 Axes>"
      ]
     },
     "metadata": {
      "needs_background": "light"
     },
     "output_type": "display_data"
    }
   ],
   "source": [
    "sns.lineplot(df.loc[df.country.isin(sea)]['year'],\n",
    "             df.loc[df.country.isin(sea)]['MALE'],\n",
    "             hue=df.loc[df.country.isin(sea)]['country'])"
   ]
  },
  {
   "cell_type": "code",
   "execution_count": 10,
   "metadata": {},
   "outputs": [
    {
     "data": {
      "text/plain": [
       "<matplotlib.axes._subplots.AxesSubplot at 0x1a24631050>"
      ]
     },
     "execution_count": 10,
     "metadata": {},
     "output_type": "execute_result"
    },
    {
     "data": {
      "image/png": "[encoded data removed]",
      "text/plain": [
       "<Figure size 432x288 with 1 Axes>"
      ]
     },
     "metadata": {
      "needs_background": "light"
     },
     "output_type": "display_data"
    }
   ],
   "source": [
    "sns.lineplot(df.loc[df.country.isin(sea)]['year'],\n",
    "             df.loc[df.country.isin(sea)]['FEMALE'],\n",
    "             hue=df.loc[df.country.isin(sea)]['country'])"
   ]
  },
  {
   "cell_type": "markdown",
   "metadata": {},
   "source": [
    "#### Insight\n",
    "* In fact, the Philippines is <b>most similar to countries like Nicaragua, Panama, Paraguay, and DR Congo</b> in terms of homicide rate for both males and females"
   ]
  },
  {
   "cell_type": "code",
   "execution_count": 11,
   "metadata": {},
   "outputs": [],
   "source": [
    "df_ave = df.groupby('country').agg({'FEMALE':np.mean,'MALE':np.mean})\n",
    "df_ave = df_ave.reset_index()"
   ]
  },
  {
   "cell_type": "code",
   "execution_count": 12,
   "metadata": {},
   "outputs": [],
   "source": [
    "df_ave.loc[df_ave.country.isin(sea), 'color'] = 'SEA'\n",
    "df_ave.loc[df_ave.country=='Philippines', 'color'] = 'PH'\n",
    "df_ave.loc[df_ave.color.isnull(), 'color'] = 'Other'"
   ]
  },
  {
   "cell_type": "code",
   "execution_count": 13,
   "metadata": {},
   "outputs": [
    {
     "data": {
      "text/plain": [
       "[(0, 8)]"
      ]
     },
     "execution_count": 13,
     "metadata": {},
     "output_type": "execute_result"
    },
    {
     "data": {
      "image/png": "[encoded data removed]",
      "text/plain": [
       "<Figure size 432x288 with 1 Axes>"
      ]
     },
     "metadata": {
      "needs_background": "light"
     },
     "output_type": "display_data"
    }
   ],
   "source": [
    "a_plot = sns.scatterplot(df_ave['MALE'],\n",
    "                df_ave['FEMALE'],\n",
    "                hue=df_ave['color'])\n",
    "a_plot.set(xlim=(0, 30))\n",
    "a_plot.set(ylim=(0, 8))"
   ]
  },
  {
   "cell_type": "code",
   "execution_count": 14,
   "metadata": {},
   "outputs": [],
   "source": [
    "df_ave['FEMALE'] = df_ave.FEMALE.fillna(np.nanmedian(df_ave.FEMALE))\n",
    "df_ave['MALE'] = df_ave.MALE.fillna(np.nanmedian(df_ave.MALE))"
   ]
  },
  {
   "cell_type": "code",
   "execution_count": 15,
   "metadata": {},
   "outputs": [],
   "source": [
    "nbrs = NearestNeighbors(n_neighbors=10, algorithm='ball_tree').fit(df_ave[['FEMALE','MALE']])\n",
    "distances, indices = nbrs.kneighbors(df_ave[['FEMALE','MALE']])"
   ]
  },
  {
   "cell_type": "code",
   "execution_count": 16,
   "metadata": {},
   "outputs": [
    {
     "data": {
      "text/html": [
       "<div>\n",
       "<style scoped>\n",
       "    .dataframe tbody tr th:only-of-type {\n",
       "        vertical-align: middle;\n",
       "    }\n",
       "\n",
       "    .dataframe tbody tr th {\n",
       "        vertical-align: top;\n",
       "    }\n",
       "\n",
       "    .dataframe thead th {\n",
       "        text-align: right;\n",
       "    }\n",
       "</style>\n",
       "<table border=\"1\" class=\"dataframe\">\n",
       "  <thead>\n",
       "    <tr style=\"text-align: right;\">\n",
       "      <th></th>\n",
       "      <th>country</th>\n",
       "      <th>FEMALE</th>\n",
       "      <th>MALE</th>\n",
       "      <th>color</th>\n",
       "    </tr>\n",
       "  </thead>\n",
       "  <tbody>\n",
       "    <tr>\n",
       "      <th>157</th>\n",
       "      <td>Philippines</td>\n",
       "      <td>3.026362</td>\n",
       "      <td>21.962226</td>\n",
       "      <td>PH</td>\n",
       "    </tr>\n",
       "    <tr>\n",
       "      <th>144</th>\n",
       "      <td>Nicaragua</td>\n",
       "      <td>2.726676</td>\n",
       "      <td>22.191117</td>\n",
       "      <td>Other</td>\n",
       "    </tr>\n",
       "    <tr>\n",
       "      <th>184</th>\n",
       "      <td>Small island developing States (SIDS)</td>\n",
       "      <td>2.690551</td>\n",
       "      <td>20.796190</td>\n",
       "      <td>Other</td>\n",
       "    </tr>\n",
       "    <tr>\n",
       "      <th>153</th>\n",
       "      <td>Panama</td>\n",
       "      <td>2.180801</td>\n",
       "      <td>23.377189</td>\n",
       "      <td>Other</td>\n",
       "    </tr>\n",
       "    <tr>\n",
       "      <th>155</th>\n",
       "      <td>Paraguay</td>\n",
       "      <td>2.677991</td>\n",
       "      <td>20.061391</td>\n",
       "      <td>Other</td>\n",
       "    </tr>\n",
       "    <tr>\n",
       "      <th>56</th>\n",
       "      <td>Democratic Republic of the Congo</td>\n",
       "      <td>5.750000</td>\n",
       "      <td>21.700000</td>\n",
       "      <td>Other</td>\n",
       "    </tr>\n",
       "    <tr>\n",
       "      <th>180</th>\n",
       "      <td>Sierra Leone</td>\n",
       "      <td>5.533333</td>\n",
       "      <td>20.450000</td>\n",
       "      <td>Other</td>\n",
       "    </tr>\n",
       "    <tr>\n",
       "      <th>62</th>\n",
       "      <td>Ecuador</td>\n",
       "      <td>2.937893</td>\n",
       "      <td>25.203734</td>\n",
       "      <td>Other</td>\n",
       "    </tr>\n",
       "    <tr>\n",
       "      <th>208</th>\n",
       "      <td>Uganda</td>\n",
       "      <td>4.059306</td>\n",
       "      <td>18.401695</td>\n",
       "      <td>Other</td>\n",
       "    </tr>\n",
       "    <tr>\n",
       "      <th>26</th>\n",
       "      <td>Botswana</td>\n",
       "      <td>3.450000</td>\n",
       "      <td>25.716667</td>\n",
       "      <td>Other</td>\n",
       "    </tr>\n",
       "  </tbody>\n",
       "</table>\n",
       "</div>"
      ],
      "text/plain": [
       "                                   country    FEMALE       MALE  color\n",
       "157                            Philippines  3.026362  21.962226     PH\n",
       "144                              Nicaragua  2.726676  22.191117  Other\n",
       "184  Small island developing States (SIDS)  2.690551  20.796190  Other\n",
       "153                                 Panama  2.180801  23.377189  Other\n",
       "155                               Paraguay  2.677991  20.061391  Other\n",
       "56        Democratic Republic of the Congo  5.750000  21.700000  Other\n",
       "180                           Sierra Leone  5.533333  20.450000  Other\n",
       "62                                 Ecuador  2.937893  25.203734  Other\n",
       "208                                 Uganda  4.059306  18.401695  Other\n",
       "26                                Botswana  3.450000  25.716667  Other"
      ]
     },
     "execution_count": 16,
     "metadata": {},
     "output_type": "execute_result"
    }
   ],
   "source": [
    "df_ave.loc[indices[157]]"
   ]
  },
  {
   "cell_type": "code",
   "execution_count": null,
   "metadata": {},
   "outputs": [],
   "source": []
  },
  {
   "cell_type": "code",
   "execution_count": null,
   "metadata": {},
   "outputs": [],
   "source": []
  },
  {
   "cell_type": "code",
   "execution_count": null,
   "metadata": {},
   "outputs": [],
   "source": []
  }
 ],
 "metadata": {
  "kernelspec": {
   "display_name": "Python 3",
   "language": "python",
   "name": "python3"
  },
  "language_info": {
   "codemirror_mode": {
    "name": "ipython",
    "version": 3
   },
   "file_extension": ".py",
   "mimetype": "text/x-python",
   "name": "python",
   "nbconvert_exporter": "python",
   "pygments_lexer": "ipython3",
   "version": "3.7.4"
  }
 },
 "nbformat": 4,
 "nbformat_minor": 4
}
